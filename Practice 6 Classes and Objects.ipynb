{
 "cells": [
  {
   "cell_type": "raw",
   "metadata": {},
   "source": [
    "Scopes And Namespace\n",
    "\n",
    "Namespace make sure that any names used in the program are unique and used withous conflict\n",
    "\n",
    "1.Built-in Namespace are created when the python intreprator startsup and these namespace are never deleted.\n",
    "2.Global Namespace are created when the module definition is read in and deleted when the interpreted quits.\n",
    "3.Local Namespace are created when the function is called and deleted when the funtion is executed.\n",
    "\n",
    "1.Local Scope\n",
    "2.Nonlocal Scope\n",
    "3.Global Scope"
   ]
  },
  {
   "cell_type": "code",
   "execution_count": 1,
   "metadata": {
    "scrolled": true
   },
   "outputs": [
    {
     "name": "stdout",
     "output_type": "stream",
     "text": [
      "buddi\n",
      "buddi\n",
      "python programming\n",
      "python programming\n",
      "Data Science\n"
     ]
    }
   ],
   "source": [
    "def buddi():\n",
    "    def local_fun():\n",
    "        name=\"python\"\n",
    "    def non_local():\n",
    "        nonlocal name\n",
    "        name = \"python programming\"\n",
    "    def global_func():\n",
    "        global name\n",
    "        name = \"Data Science\"\n",
    "    name = \"buddi\"\n",
    "   \n",
    "    print(name)\n",
    "    local_fun()\n",
    "    print(name)\n",
    "    non_local()\n",
    "    print(name)\n",
    "    global_func()\n",
    "    print(name)\n",
    "    \n",
    "    \n",
    "    \n",
    "buddi()\n",
    "print(name)"
   ]
  },
  {
   "cell_type": "raw",
   "metadata": {},
   "source": [
    "Classes\n",
    "\n",
    "A class in python is the blueprint from which specific objects are created\n",
    "\n",
    "1.Variables, 2.Methods, 3.Constructor, 4.Objects, 5.Instance Variables, 6.Class variables\n",
    "\n",
    "Object:\n",
    "\n",
    "Object are used for attribute instantiation and reference."
   ]
  },
  {
   "cell_type": "code",
   "execution_count": 2,
   "metadata": {
    "scrolled": true
   },
   "outputs": [
    {
     "name": "stdout",
     "output_type": "stream",
     "text": [
      "Hello world\n"
     ]
    }
   ],
   "source": [
    "class Buddi:\n",
    "        print(\"Hello world\")"
   ]
  },
  {
   "cell_type": "code",
   "execution_count": 3,
   "metadata": {},
   "outputs": [
    {
     "data": {
      "text/plain": [
       "'python'"
      ]
     },
     "execution_count": 3,
     "metadata": {},
     "output_type": "execute_result"
    }
   ],
   "source": [
    "class Buddi:\n",
    "    def __init__(self, name):\n",
    "        self.name = name\n",
    "        \n",
    "x = Buddi(\"python\")\n",
    "x.name"
   ]
  },
  {
   "cell_type": "code",
   "execution_count": 4,
   "metadata": {},
   "outputs": [
    {
     "name": "stdout",
     "output_type": "stream",
     "text": [
      "this funtion is called\n"
     ]
    }
   ],
   "source": [
    "class Buddi:\n",
    "    def __init__(self, name):\n",
    "        self.name = name\n",
    "        \n",
    "    def func(self):\n",
    "        print(\"this funtion is called\")\n",
    "        \n",
    "x = Buddi(\"python\")\n",
    "x.name\n",
    "x.func()"
   ]
  },
  {
   "cell_type": "code",
   "execution_count": 5,
   "metadata": {},
   "outputs": [
    {
     "data": {
      "text/plain": [
       "'ML'"
      ]
     },
     "execution_count": 5,
     "metadata": {},
     "output_type": "execute_result"
    }
   ],
   "source": [
    "class Buddi:\n",
    "    def __init__(self):\n",
    "        self.name = \"python\"\n",
    "        self.course = \"Data science\"\n",
    "        \n",
    "        \n",
    "x = Buddi()\n",
    "x.course = \"ML\"\n",
    "x.course\n",
    "        "
   ]
  },
  {
   "cell_type": "code",
   "execution_count": 10,
   "metadata": {},
   "outputs": [
    {
     "name": "stdout",
     "output_type": "stream",
     "text": [
      "Data science\n"
     ]
    }
   ],
   "source": [
    "class Buddi:\n",
    "    def __init__(self):\n",
    "        self.name = \"python\"\n",
    "        self.course = \"Data science\"\n",
    "        \n",
    "        \n",
    "x = Buddi()\n",
    "##x.course = \"ML\"\n",
    "print(x.course)     "
   ]
  },
  {
   "cell_type": "code",
   "execution_count": 7,
   "metadata": {},
   "outputs": [
    {
     "data": {
      "text/plain": [
       "'Scala'"
      ]
     },
     "execution_count": 7,
     "metadata": {},
     "output_type": "execute_result"
    }
   ],
   "source": [
    "class Buddi:\n",
    "    name = \"python\"\n",
    "    \n",
    "    def __init__(self,course,tech):\n",
    "        self.course = course\n",
    "        self.tech = tech\n",
    "        \n",
    "student = Buddi(\"Python program\", \"Pyhton\")\n",
    "student2 = Buddi(\"Data Science\", \"Scala\")\n",
    "\n",
    "student.name\n",
    "student.course\n",
    "student2.tech"
   ]
  },
  {
   "cell_type": "raw",
   "metadata": {},
   "source": [
    "Inheritance\n",
    "\n",
    "The method of inheriting the properties of parent class into a child class is known as inheritance."
   ]
  },
  {
   "cell_type": "code",
   "execution_count": 8,
   "metadata": {},
   "outputs": [
    {
     "name": "stdout",
     "output_type": "stream",
     "text": [
      "this is function 1\n"
     ]
    }
   ],
   "source": [
    "class Parent:\n",
    "    def function1(self):\n",
    "        print(\"this is function 1\")\n",
    "        \n",
    "class child(Parent):        \n",
    "    def function2(self):\n",
    "        print(\"this the funtion 2\")\n",
    "        \n",
    "ex = child()\n",
    "ex.function1()"
   ]
  },
  {
   "cell_type": "code",
   "execution_count": 9,
   "metadata": {},
   "outputs": [
    {
     "name": "stdout",
     "output_type": "stream",
     "text": [
      "this the funtion 2\n"
     ]
    }
   ],
   "source": [
    "class Parent:\n",
    "    def function1(self):\n",
    "        print(\"this is function 1\")\n",
    "        \n",
    "class child(Parent):        \n",
    "    def function2(self):\n",
    "        print(\"this the funtion 2\")\n",
    "        \n",
    "ex = child()\n",
    "ex.function2()"
   ]
  },
  {
   "cell_type": "code",
   "execution_count": 10,
   "metadata": {},
   "outputs": [
    {
     "name": "stdout",
     "output_type": "stream",
     "text": [
      "Dad\n"
     ]
    }
   ],
   "source": [
    "##Multipls Inheritance\n",
    "\n",
    "class Parent1:\n",
    "    def func1(self):\n",
    "        print(\"Dad\")\n",
    "        \n",
    "class Parent2:\n",
    "    def func2(self):\n",
    "        print(\"Mom\")\n",
    "        \n",
    "class child(Parent1, Parent2):\n",
    "    def func3(self):\n",
    "        print(\"both mom and dad\")\n",
    "        \n",
    "        \n",
    "ex = child()\n",
    "ex.func1()\n",
    "    "
   ]
  },
  {
   "cell_type": "code",
   "execution_count": 3,
   "metadata": {},
   "outputs": [
    {
     "name": "stdout",
     "output_type": "stream",
     "text": [
      "both mom and dad\n"
     ]
    }
   ],
   "source": [
    "class Parent1:\n",
    "    def func1(self):\n",
    "        print(\"Dad\")\n",
    "        \n",
    "class Parent2:\n",
    "    def func2(self):\n",
    "        print(\"Mom\")\n",
    "        \n",
    "class child(Parent1, Parent2):\n",
    "    def func3(self):\n",
    "        print(\"both mom and dad\")\n",
    "        \n",
    "        \n",
    "ex = child()\n",
    "ex.func3()    "
   ]
  },
  {
   "cell_type": "raw",
   "metadata": {},
   "source": [
    "Encapsulation\n",
    "\n",
    "Binding the data and code together as a single unit\n",
    "Securing data by hiding the implementation details to user"
   ]
  },
  {
   "cell_type": "raw",
   "metadata": {},
   "source": [
    "Abstraction\n",
    "\n",
    "Hides the implementation detail and only provides the funtionality to the user\n",
    "And we can achive abstraction using Abstract classes and interfaces"
   ]
  }
 ],
 "metadata": {
  "kernelspec": {
   "display_name": "Python 3",
   "language": "python",
   "name": "python3"
  },
  "language_info": {
   "codemirror_mode": {
    "name": "ipython",
    "version": 3
   },
   "file_extension": ".py",
   "mimetype": "text/x-python",
   "name": "python",
   "nbconvert_exporter": "python",
   "pygments_lexer": "ipython3",
   "version": "3.8.5"
  }
 },
 "nbformat": 4,
 "nbformat_minor": 4
}
